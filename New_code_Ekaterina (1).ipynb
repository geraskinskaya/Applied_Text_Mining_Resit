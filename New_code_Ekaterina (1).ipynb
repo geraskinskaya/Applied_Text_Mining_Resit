{
  "nbformat": 4,
  "nbformat_minor": 0,
  "metadata": {
    "colab": {
      "provenance": [],
      "collapsed_sections": [
        "Z0eI-UiHqAGG"
      ]
    },
    "kernelspec": {
      "name": "python3",
      "display_name": "Python 3"
    },
    "language_info": {
      "name": "python"
    },
    "accelerator": "GPU",
    "gpuClass": "standard"
  },
  "cells": [
    {
      "cell_type": "markdown",
      "source": [
        "# **Import Statements**"
      ],
      "metadata": {
        "id": "nz8O7AH12d_y"
      }
    },
    {
      "cell_type": "code",
      "source": [
        "import itertools"
      ],
      "metadata": {
        "id": "zLyf75OP9Rn9"
      },
      "execution_count": 37,
      "outputs": []
    },
    {
      "cell_type": "code",
      "source": [
        "from sklearn.metrics import accuracy_score\n",
        "from sklearn.metrics import confusion_matrix\n",
        "from sklearn.metrics import classification_report"
      ],
      "metadata": {
        "id": "4bK2kY-ISZjh"
      },
      "execution_count": 38,
      "outputs": []
    },
    {
      "cell_type": "code",
      "execution_count": 39,
      "metadata": {
        "id": "qRyLZX1CE_31"
      },
      "outputs": [],
      "source": [
        "import pandas as pd \n",
        "import numpy as np\n",
        "import matplotlib.pyplot as plt\n",
        "import seaborn as sns\n",
        "from sklearn.model_selection import train_test_split\n",
        "from sklearn.svm import SVC\n",
        "from sklearn.metrics import classification_report, confusion_matrix\n",
        "from sklearn.preprocessing import LabelEncoder, OneHotEncoder\n",
        "import warnings\n",
        "warnings.filterwarnings('ignore')\n",
        "import spacy\n",
        "import functools\n",
        "import re\n",
        "\n",
        "# from sklearn.svm import LinearSVC\n",
        "from sklearn.feature_extraction.text import TfidfVectorizer\n",
        "from sklearn.pipeline import Pipeline\n",
        "from sklearn.compose import ColumnTransformer\n",
        "from sklearn.preprocessing import StandardScaler\n",
        "from sklearn.ensemble import GradientBoostingClassifier,RandomForestClassifier\n",
        "# from sklearn import model_selection, naive_bayes, svm\n",
        "\n",
        "\n",
        "import lightgbm as lgb\n",
        "from sklearn.feature_selection import SelectFromModel\n",
        "from sklearn.datasets import make_classification\n",
        "from sklearn.feature_selection import SelectKBest, chi2\n",
        "from sklearn.pipeline import Pipeline\n",
        "from imblearn.pipeline import make_pipeline\n",
        "from imblearn.under_sampling import RandomUnderSampler\n",
        "from imblearn.over_sampling import RandomOverSampler\n",
        "from sklearn.ensemble import RandomForestClassifier\n",
        "from imblearn.over_sampling import SMOTE #OVERAMPLING\n",
        "from sklearn.model_selection import KFold, StratifiedKFold\n",
        "# from simpletransformers.classification import ClassificationModel, ClassificationArgs, MultiLabelClassificationModel\n",
        "from scipy.special import softmax\n",
        "%matplotlib inline"
      ]
    },
    {
      "cell_type": "code",
      "source": [
        "import locale\n",
        "def getpreferredencoding(do_setlocale = True):\n",
        "    return \"UTF-8\"\n",
        "locale.getpreferredencoding = getpreferredencoding"
      ],
      "metadata": {
        "id": "9TqtaqMV2ktx"
      },
      "execution_count": 40,
      "outputs": []
    },
    {
      "cell_type": "code",
      "source": [
        "# !nvcc --version\n",
        "# NEED TO RUN THIS FOR SVM WITH GPU USAGE\n",
        "!wget https://developer.nvidia.com/compute/cuda/9.0/Prod/local_installers/cuda-repo-ubuntu1704-9-0-local_9.0.176-1_amd64-deb\n",
        "!ls  # Check if required cuda 9.0 amd64-deb file is downloaded\n",
        "!dpkg -i cuda-repo-ubuntu1704-9-0-local_9.0.176-1_amd64-deb\n",
        "!ls /var/cuda-repo-9-0-local | grep .pub\n",
        "!apt-key add /var/cuda-repo-9-0-local/7fa2af80.pub\n",
        "!apt-get update\n",
        "!sudo apt-get install cuda-9.0\n",
        "!pip install thundersvm"
      ],
      "metadata": {
        "colab": {
          "base_uri": "https://localhost:8080/"
        },
        "id": "o0U6HsWr2yok",
        "outputId": "816411fb-4b96-4ede-90b1-23f1bff2cb09"
      },
      "execution_count": 41,
      "outputs": [
        {
          "output_type": "stream",
          "name": "stdout",
          "text": [
            "--2023-03-26 16:11:40--  https://developer.nvidia.com/compute/cuda/9.0/Prod/local_installers/cuda-repo-ubuntu1704-9-0-local_9.0.176-1_amd64-deb\n",
            "Resolving developer.nvidia.com (developer.nvidia.com)... 152.199.39.144\n",
            "Connecting to developer.nvidia.com (developer.nvidia.com)|152.199.39.144|:443... connected.\n",
            "HTTP request sent, awaiting response... 301 Moved Permanently\n",
            "Location: https://developer.nvidia.com/downloads/compute/cuda/9.0/Prod/local_installers/cuda-repo-ubuntu1704-9-0-local_9.0.176-1_amd64-deb [following]\n",
            "--2023-03-26 16:11:41--  https://developer.nvidia.com/downloads/compute/cuda/9.0/Prod/local_installers/cuda-repo-ubuntu1704-9-0-local_9.0.176-1_amd64-deb\n",
            "Reusing existing connection to developer.nvidia.com:443.\n",
            "HTTP request sent, awaiting response... 302 Found\n",
            "Location: https://developer.download.nvidia.com/compute/cuda/9.0/secure/Prod/local_installers/cuda-repo-ubuntu1704-9-0-local_9.0.176-1_amd64.deb?EKHXShyvWf4wa3em2ZHISSE3f1ytyrLuz6UGslaN27GiC-ljdKJveYN6EDefs33RzST32HuipZ_hlY9DFXn826o30GcHyNHD4iDZ6rhrnmrMeR_oXUyV6FLjA4DcHsE_wbNXso7dn7zXfVaOFM10v0M0eLMTYKdgfYW-I660TpL1dB--4NGBpv4AIFC6Ws4FMnsZ-83yUXGTm6OLnGZz [following]\n",
            "--2023-03-26 16:11:42--  https://developer.download.nvidia.com/compute/cuda/9.0/secure/Prod/local_installers/cuda-repo-ubuntu1704-9-0-local_9.0.176-1_amd64.deb?EKHXShyvWf4wa3em2ZHISSE3f1ytyrLuz6UGslaN27GiC-ljdKJveYN6EDefs33RzST32HuipZ_hlY9DFXn826o30GcHyNHD4iDZ6rhrnmrMeR_oXUyV6FLjA4DcHsE_wbNXso7dn7zXfVaOFM10v0M0eLMTYKdgfYW-I660TpL1dB--4NGBpv4AIFC6Ws4FMnsZ-83yUXGTm6OLnGZz\n",
            "Resolving developer.download.nvidia.com (developer.download.nvidia.com)... 152.199.39.144\n",
            "Connecting to developer.download.nvidia.com (developer.download.nvidia.com)|152.199.39.144|:443... connected.\n",
            "HTTP request sent, awaiting response... 200 OK\n",
            "Length: 1216133170 (1.1G) [application/x-deb]\n",
            "Saving to: ‘cuda-repo-ubuntu1704-9-0-local_9.0.176-1_amd64-deb.1’\n",
            "\n",
            "cuda-repo-ubuntu170 100%[===================>]   1.13G  57.4MB/s    in 9.4s    \n",
            "\n",
            "2023-03-26 16:11:51 (123 MB/s) - ‘cuda-repo-ubuntu1704-9-0-local_9.0.176-1_amd64-deb.1’ saved [1216133170/1216133170]\n",
            "\n",
            "cuda-repo-ubuntu1704-9-0-local_9.0.176-1_amd64-deb\n",
            "cuda-repo-ubuntu1704-9-0-local_9.0.176-1_amd64-deb.1\n",
            "sample_data\n",
            "SEM-2012-SharedTask-CD-SCO-dev-simple.v2.txt\n",
            "SEM-2012-SharedTask-CD-SCO-test-cardboard.txt\n",
            "SEM-2012-SharedTask-CD-SCO-test-circle.txt\n",
            "SEM-2012-SharedTask-CD-SCO-training-simple.v2.txt\n",
            "(Reading database ... 137751 files and directories currently installed.)\n",
            "Preparing to unpack cuda-repo-ubuntu1704-9-0-local_9.0.176-1_amd64-deb ...\n",
            "Unpacking cuda-repo-ubuntu1704-9-0-local (9.0.176-1) over (9.0.176-1) ...\n",
            "Setting up cuda-repo-ubuntu1704-9-0-local (9.0.176-1) ...\n",
            "7fa2af80.pub\n",
            "OK\n",
            "Get:1 file:/var/cuda-repo-9-0-local  InRelease\n",
            "Ign:1 file:/var/cuda-repo-9-0-local  InRelease\n",
            "Get:2 file:/var/cuda-repo-9-0-local  Release [574 B]\n",
            "Get:2 file:/var/cuda-repo-9-0-local  Release [574 B]\n",
            "Hit:3 https://cloud.r-project.org/bin/linux/ubuntu focal-cran40/ InRelease\n",
            "Hit:4 https://developer.download.nvidia.com/compute/cuda/repos/ubuntu2004/x86_64  InRelease\n",
            "Get:6 http://security.ubuntu.com/ubuntu focal-security InRelease [114 kB]\n",
            "Hit:7 http://ppa.launchpad.net/c2d4u.team/c2d4u4.0+/ubuntu focal InRelease\n",
            "Hit:8 http://archive.ubuntu.com/ubuntu focal InRelease\n",
            "Get:9 http://archive.ubuntu.com/ubuntu focal-updates InRelease [114 kB]\n",
            "Hit:10 http://ppa.launchpad.net/cran/libgit2/ubuntu focal InRelease\n",
            "Hit:11 http://ppa.launchpad.net/deadsnakes/ppa/ubuntu focal InRelease\n",
            "Hit:12 http://ppa.launchpad.net/graphics-drivers/ppa/ubuntu focal InRelease\n",
            "Get:13 http://archive.ubuntu.com/ubuntu focal-backports InRelease [108 kB]\n",
            "Hit:14 http://ppa.launchpad.net/ubuntugis/ppa/ubuntu focal InRelease\n",
            "Fetched 336 kB in 2s (171 kB/s)\n",
            "Reading package lists... Done\n",
            "Reading package lists... Done\n",
            "Building dependency tree       \n",
            "Reading state information... Done\n",
            "Note, selecting 'cuda-9-0' for regex 'cuda-9.0'\n",
            "Note, selecting 'libcuda-9.0-1' for regex 'cuda-9.0'\n",
            "cuda-9-0 is already the newest version (9.0.176-1).\n",
            "0 upgraded, 0 newly installed, 0 to remove and 23 not upgraded.\n",
            "Looking in indexes: https://pypi.org/simple, https://us-python.pkg.dev/colab-wheels/public/simple/\n",
            "Requirement already satisfied: thundersvm in /usr/local/lib/python3.9/dist-packages (0.3.12)\n",
            "Requirement already satisfied: scikit-learn in /usr/local/lib/python3.9/dist-packages (from thundersvm) (1.2.2)\n",
            "Requirement already satisfied: scipy in /usr/local/lib/python3.9/dist-packages (from thundersvm) (1.10.1)\n",
            "Requirement already satisfied: numpy in /usr/local/lib/python3.9/dist-packages (from thundersvm) (1.22.4)\n",
            "Requirement already satisfied: joblib>=1.1.1 in /usr/local/lib/python3.9/dist-packages (from scikit-learn->thundersvm) (1.1.1)\n",
            "Requirement already satisfied: threadpoolctl>=2.0.0 in /usr/local/lib/python3.9/dist-packages (from scikit-learn->thundersvm) (3.1.0)\n"
          ]
        }
      ]
    },
    {
      "cell_type": "code",
      "source": [
        "!nvidia-smi"
      ],
      "metadata": {
        "colab": {
          "base_uri": "https://localhost:8080/"
        },
        "id": "Ed2cARkQKfwq",
        "outputId": "98e68b0a-4faf-4797-c2ac-fb467f012244"
      },
      "execution_count": 42,
      "outputs": [
        {
          "output_type": "stream",
          "name": "stdout",
          "text": [
            "Sun Mar 26 16:12:15 2023       \n",
            "+-----------------------------------------------------------------------------+\n",
            "| NVIDIA-SMI 525.85.12    Driver Version: 525.85.12    CUDA Version: 12.0     |\n",
            "|-------------------------------+----------------------+----------------------+\n",
            "| GPU  Name        Persistence-M| Bus-Id        Disp.A | Volatile Uncorr. ECC |\n",
            "| Fan  Temp  Perf  Pwr:Usage/Cap|         Memory-Usage | GPU-Util  Compute M. |\n",
            "|                               |                      |               MIG M. |\n",
            "|===============================+======================+======================|\n",
            "|   0  Tesla T4            Off  | 00000000:00:04.0 Off |                    0 |\n",
            "| N/A   77C    P0    31W /  70W |    541MiB / 15360MiB |      0%      Default |\n",
            "|                               |                      |                  N/A |\n",
            "+-------------------------------+----------------------+----------------------+\n",
            "                                                                               \n",
            "+-----------------------------------------------------------------------------+\n",
            "| Processes:                                                                  |\n",
            "|  GPU   GI   CI        PID   Type   Process name                  GPU Memory |\n",
            "|        ID   ID                                                   Usage      |\n",
            "|=============================================================================|\n",
            "+-----------------------------------------------------------------------------+\n"
          ]
        }
      ]
    },
    {
      "cell_type": "code",
      "source": [
        "from sklearn.model_selection import GridSearchCV\n",
        "from sklearn.feature_selection import SelectKBest, f_classif\n",
        "from sklearn.compose import ColumnTransformer\n",
        "from sklearn.feature_extraction.text import CountVectorizer\n",
        "from imblearn.pipeline import Pipeline\n",
        "from imblearn.under_sampling import RandomUnderSampler\n",
        "from sklearn.preprocessing import StandardScaler\n",
        "from imblearn.over_sampling import RandomOverSampler\n",
        "from sklearn.preprocessing import FunctionTransformer\n",
        "from sklearn.model_selection import RandomizedSearchCV\n",
        "from lightgbm import LGBMClassifier\n",
        "import xgboost as xgb\n",
        "from sklearn.decomposition import TruncatedSVD\n",
        "import thundersvm\n",
        "\n"
      ],
      "metadata": {
        "id": "dSS7-tXf3PCp"
      },
      "execution_count": 43,
      "outputs": []
    },
    {
      "cell_type": "markdown",
      "source": [
        "# **Function Definitions**"
      ],
      "metadata": {
        "id": "39f2gjF-21BT"
      }
    },
    {
      "cell_type": "markdown",
      "source": [
        "**Data Preprocessing** "
      ],
      "metadata": {
        "id": "YXm6NVb225J7"
      }
    },
    {
      "cell_type": "code",
      "source": [
        "def build_dataframe(file_path):\n",
        "    data = []\n",
        "    with open(file_path, 'r') as file:\n",
        "        for line in file:\n",
        "            data.append(line.strip().split('\\t'))\n",
        "    df = pd.DataFrame(data)\n",
        "    return df\n",
        "\n",
        "def check_affixes(token, lemma):\n",
        "    prefixes = [ \"dis\", \"ir\", \"im\", \"in\", \"a\", \"il\", \"non\", \"un\", \"ig\", \"mis\", \"anti\", \"ab\", \"an\"]\n",
        "    is_lemma_without = 2\n",
        "    if any(token.lower().startswith(prefix) for prefix in prefixes):\n",
        "      prefix = set(token.lower()).intersection(prefixes)\n",
        "      if token != 'in' or token!= 'a' or token != 'an': #chekcing special case   \n",
        "        start = len(prefix)+1\n",
        "        end = len(token) \n",
        "        if token[start:end].startswith(lemma, 0, len(lemma)):\n",
        "          is_lemma_without = 1\n",
        "        else:\n",
        "          is_lemma_without = 0\n",
        "        return 1, is_lemma_without\n",
        "    elif token.lower().endswith(\"less\"):\n",
        "      if token[0:len(token)-4].startswith(lemma, len(lemma)):\n",
        "        is_lemma_without = 1\n",
        "      else:\n",
        "        is_lemma_without = 0\n",
        "      return 1, is_lemma_without\n",
        "    return 0, is_lemma_without\n",
        "\n",
        "def set_features_values(row,spacy_tokenized,idx):\n",
        "    \n",
        "    #full sentence\n",
        "    row['sentence']       = ' '.join([token.text for token in spacy_tokenized])\n",
        "    try:\n",
        "      row['next_token']     = spacy_tokenized[idx+1].text \n",
        "    except IndexError:\n",
        "      row['next_token'] = \"\"\n",
        "    row['prev_token']     = spacy_tokenized[idx-1].text if idx > 0 else \"\"\n",
        "    #Lemma\n",
        "    row['lemma']          = spacy_tokenized[idx].lemma_ \n",
        "    try:\n",
        "      row['next_lemma']     = spacy_tokenized[idx+1].lemma_ \n",
        "    except IndexError:\n",
        "      row['next_lemma'] = \"\"\n",
        "    row['prev_lemma']     = spacy_tokenized[idx-1].lemma_ if idx > 0 else \"\"\n",
        "    row['double_prev_lemma'] = spacy_tokenized[idx-2].lemma_ if idx > 0 else \"\"\n",
        "\n",
        "    # Dependency Parser\n",
        "    row['tag']          = spacy_tokenized[idx].tag_\n",
        "    row['dependency']   = spacy_tokenized[idx].dep_\n",
        "    row['head']         = spacy_tokenized[idx].head.text\n",
        "    row['root_path']    = len(list(spacy_tokenized[idx].ancestors))    \n",
        "\n",
        "    # Negative Expression List\n",
        "    NegExpList = ['nor', 'neither', 'without', 'nobody', 'none', 'nothing', 'never', 'not', 'no', 'nowhere', 'non']\n",
        "    token = spacy_tokenized[idx].text.lower()\n",
        "    if  token in NegExpList:\n",
        "      neg = 1\n",
        "    else:\n",
        "      neg = 0\n",
        "    row['neg_exp_list'] = neg\n",
        "    #Check negative affixes\n",
        "    bol, is_lemma = check_affixes(spacy_tokenized[idx].text, spacy_tokenized[idx].lemma_)\n",
        "    row['affix_cue'] = bol\n",
        "    row['is_lemma_without_affix'] = is_lemma\n",
        "\n",
        "    return row"
      ],
      "metadata": {
        "id": "Uk6UtM3s3W8F"
      },
      "execution_count": 44,
      "outputs": []
    },
    {
      "cell_type": "code",
      "execution_count": 45,
      "metadata": {
        "id": "Yd-GCIdvcK1P"
      },
      "outputs": [],
      "source": [
        "def add_token_features(df,spacy_tokenized,offset=1):\n",
        "    \"\"\"\n",
        "    (TODO move this description) Add features from spacy dependency parse. In case tokenizations from spacy and database don't match, for each word we look in the neighborhood for the token,\n",
        "    usually it's shifted 1 position. In case tokenizations doesn't match and we dont find the token in the neighborhood, those features are set to None in that row\n",
        "    Params:\n",
        "        -offset: number of tokens to the left and right to look in case tokenizations doesn't match\n",
        "    \"\"\"\n",
        "    i=0\n",
        "    for idx,row in df.iterrows():\n",
        "        \n",
        "        # Both tokenizarions match:\n",
        "        if row['token'] == spacy_tokenized[i].text:\n",
        "\n",
        "            row = set_features_values(row,spacy_tokenized,i)\n",
        "        else:\n",
        "\n",
        "            if row['token'] == spacy_tokenized[i-offset].text:\n",
        "                row = set_features_values(row,spacy_tokenized,i-offset)\n",
        "            elif row['token'] == spacy_tokenized[i+offset].text:\n",
        "                row = set_features_values(row,spacy_tokenized,i+offset)\n",
        "            else:\n",
        "                #try one position more\n",
        "                \n",
        "                if row['token'] == spacy_tokenized[i-offset+1].text:\n",
        "                    row = set_features_values(row,spacy_tokenized,i-offset+1)\n",
        "                elif row['token'] == spacy_tokenized[i+offset+1].text:\n",
        "                    row = set_features_values(row,spacy_tokenized,i+offset+1)                \n",
        "\n",
        "        i += 1\n",
        "    \n",
        "    # print(f\"new df: \\n{df[['token', 'tag', 'dependency', 'head', 'root_path']]}\")\n",
        "    return df\n",
        "    # spacy.displacy.serve(spacy_tokenized, style=\"dep\")    \n",
        "\n",
        "def applySentenceGroupBy(sentence_df):\n",
        "\n",
        "    tokens = []\n",
        "    for i,row in sentence_df.iterrows():\n",
        "        tokens.append(row['token'])\n",
        "    \n",
        "    #reconstruct string from original df\n",
        "    string = ' '.join([token for token in tokens])\n",
        "    \n",
        "    #use spacy to tokenize and extract dependencies, etc.\n",
        "    spacy_tokenized = nlp(string)\n",
        "    \n",
        "    sentence_df = add_token_features(sentence_df,spacy_tokenized,offset=1)    \n",
        "\n",
        "    return sentence_df\n",
        "\n",
        "\n",
        "# df"
      ]
    },
    {
      "cell_type": "markdown",
      "source": [
        "**Ablation**"
      ],
      "metadata": {
        "id": "SFQafxke3Csv"
      }
    },
    {
      "cell_type": "code",
      "source": [
        "from sklearn.base import BaseEstimator,TransformerMixin\n",
        "\n",
        "class custom_tfidf(BaseEstimator,TransformerMixin):\n",
        "    def __init__(self,tfidf):\n",
        "        self.tfidf = tfidf\n",
        "\n",
        "    def fit(self, X, y=None):\n",
        "        joined_X = X.apply(lambda x: ' '.join(x), axis=1)\n",
        "        self.tfidf.fit(joined_X)        \n",
        "        return self\n",
        "\n",
        "    def transform(self, X):\n",
        "        joined_X = X.apply(lambda x: ' '.join(x), axis=1)\n",
        "\n",
        "        return self.tfidf.transform(joined_X)  "
      ],
      "metadata": {
        "id": "guXwX4hO4hKN"
      },
      "execution_count": 46,
      "outputs": []
    },
    {
      "cell_type": "code",
      "source": [
        "accuracy_score,\n",
        "def grid_and_select(x_tr, y_tr, x_te, y_te, features):\n",
        "  num = StandardScaler()      \n",
        "  vectorizer1 = TfidfVectorizer()#.fit(corpus_df.text.to_list())\n",
        "\n",
        "  numeric_transformer  = Pipeline(\n",
        "  steps=[(\"scaler\", StandardScaler())])\n",
        "  str_transformer = Pipeline(\n",
        "  steps=[\n",
        "        (\"tfidf\", custom_tfidf(vectorizer1))\n",
        "    ]) \n",
        "\n",
        "  features_numeric_control = ['root_path',\n",
        "                                'neg_exp_list',\n",
        "                                'affix_cue',\n",
        "                              'is_lemma_without_affix']\n",
        "  feature_str_control =      ['next_token', 'prev_token'\n",
        "                                'token', 'next_lemma'\n",
        "                                'double_prev_lemma'\n",
        "                                'prev_lemma',\n",
        "                                'lemma',\n",
        "                                'tag',\n",
        "                                'dependency',\n",
        "                                'head']\n",
        "\n",
        "\n",
        "    \n",
        "  feature_str = [feat for feat in features if feat in feature_str_control]\n",
        "  features_numeric = [feat for feat in features if feat in features_numeric_control]\n",
        "\n",
        "\n",
        "\n",
        "  preprocessor = ColumnTransformer(\n",
        "        transformers=[('tfidf', str_transformer, feature_str),\n",
        "                      ('num',numeric_transformer,features_numeric)  \n",
        "                      ])\n",
        "  pipe_svm = Pipeline([\n",
        "                        ('preprocessor', preprocessor),\n",
        "                        ('classifier', thundersvm.SVC())])\n",
        "        \n",
        "        # SVM\n",
        "  param_grid_svm = {\n",
        "            'classifier__C':      [1.0, 10.0],\n",
        "            'classifier__kernel': ['linear'],\n",
        "            'classifier__gamma':  [0.5, 1],\n",
        "        }\n",
        "\n",
        "  grid_svm     = GridSearchCV(pipe_svm, param_grid_svm, n_jobs=1, cv=2)\n",
        "\n",
        "  pipe_xgb = Pipeline([\n",
        "                        ('preprocessor', preprocessor),\n",
        "                        ('classifier', xgb.XGBClassifier(tree_method='gpu_hist'))])\n",
        "        \n",
        "        # XGB\n",
        "  param_grid_xgb = {\n",
        "            'classifier__max_depth':        [5],\n",
        "            'classifier__colsample_bytree': [0.6, 1.0],\n",
        "            'classifier__learning_rate':    [0.1, 0.3],\n",
        "        }\n",
        "\n",
        "  grid_xgb     = GridSearchCV(pipe_xgb, param_grid_xgb, n_jobs=1, cv=2)\n",
        "  \n",
        "  grid_svm.fit(x_tr,y_tr)\n",
        "  y_pred = grid_svm.predict(x_te)\n",
        "  a_svm = round(accuracy_score(y_te, y_pred),3)\n",
        "  rep_svm = classification_report(y_te, y_pred, output_dict = True)\n",
        "  macro_avg_f1_svm = rep_svm['macro avg']['f1-score']\n",
        "  results_svm = [a_svm, macro_avg_f1_svm]\n",
        "  params_svm = grid_svm.best_params_\n",
        "\n",
        "  grid_xgb.fit(x_tr,y_tr)\n",
        "  y_pred = grid_xgb.predict(x_te)\n",
        "  a_xgb = accuracy_score(y_te, y_pred)\n",
        "  rep_xgb = classification_report(y_te, y_pred, output_dict = True)\n",
        "  macro_avg_f1_xgb = rep_svm['macro avg']['f1-score']\n",
        "  results_xgb = [a_xgb, macro_avg_f1_xgb]\n",
        "  params_xgb = grid_xgb.best_params_\n",
        "\n",
        "  return params_svm, params_xgb, results_svm, results_xgb\n",
        "\n"
      ],
      "metadata": {
        "id": "QnE1woY24K2M"
      },
      "execution_count": 47,
      "outputs": []
    },
    {
      "cell_type": "code",
      "source": [
        "def ablation(combination_features, basic_features):\n",
        "  acs_svm = []\n",
        "  acs_xgb = []\n",
        "  maf1_svm = []\n",
        "  maf1_xgb = []\n",
        "  p_svm = []\n",
        "  p_xgb = []\n",
        " \n",
        "  for combination in combination_features:\n",
        "    #transform list of tuples to list of lists\n",
        "    actual_combination = combination + basic_features\n",
        "   \n",
        "      \n",
        "      #  False\n",
        "    x_tra = x_abl_tr[actual_combination].copy()\n",
        "    x_tes = x_abl_te[actual_combination].copy()\n",
        "\n",
        "    param_svm, param_xgb, result_svm, result_xgb = grid_and_select(x_tra, y_abl_tr, x_tes,y_abl_te, actual_combination)\n",
        "    acs_svm.append(result_svm[0])\n",
        "    acs_xgb.append(result_xgb[0])\n",
        "    maf1_svm.append(result_svm[1])\n",
        "    maf1_xgb.append(result_xgb[1])\n",
        "    p_svm.append(param_svm)\n",
        "    p_xgb.append(param_xgb)\n",
        "    del x_tra\n",
        "    del actual_combination\n",
        "    del x_tes\n",
        "  list_of_tuples = list(zip(combination_features, acs_svm,maf1_svm, p_svm, acs_xgb, maf1_xgb, p_xgb))\n",
        "  results = pd.DataFrame(list_of_tuples, columns = ['Feature_set', 'A SVM', 'MA F1 SVM', 'pars SVM', 'A XGB', 'MA F1 XGB', 'pars XGB'])\n",
        "  return results"
      ],
      "metadata": {
        "id": "ov2aobDuSf0T"
      },
      "execution_count": 48,
      "outputs": []
    },
    {
      "cell_type": "markdown",
      "source": [
        "# **Data PreProcessing**"
      ],
      "metadata": {
        "id": "bKzfstOW6FJX"
      }
    },
    {
      "cell_type": "code",
      "source": [],
      "metadata": {
        "id": "6AaOIEDT6EQn"
      },
      "execution_count": 48,
      "outputs": []
    },
    {
      "cell_type": "code",
      "source": [
        "nlp = spacy.load(\"en_core_web_sm\")\n",
        "\n",
        "df = build_dataframe(\"/content/SEM-2012-SharedTask-CD-SCO-training-simple.v2.txt\")\n",
        "df = df.rename(columns={0: 'file', 1: 'nSentence', 2: 'nToken', 3: 'token', 4: 'negCue'})\n",
        "\n",
        "df.insert(0, 'sentence', None)\n",
        "df.insert(len(df.columns)-1, 'next_token', None)\n",
        "df.insert(len(df.columns)-1, 'prev_token', None)\n",
        "df.insert(len(df.columns)-1, 'lemma', None)\n",
        "df.insert(len(df.columns)-1, 'next_lemma', None)\n",
        "df.insert(len(df.columns)-1, 'prev_lemma', None)\n",
        "df.insert(len(df.columns)-1, 'double_prev_lemma', None)\n",
        "df.insert(len(df.columns)-1, 'tag', None)\n",
        "df.insert(len(df.columns)-1, 'dependency', None)\n",
        "df.insert(len(df.columns)-1, 'head', None)\n",
        "df.insert(len(df.columns)-1, 'root_path', None)\n",
        "df.insert(len(df.columns)-1, 'neg_exp_list', None)\n",
        "df.insert(len(df.columns)-1, 'affix_cue', None)\n",
        "df.insert(len(df.columns)-1, 'is_lemma_without_affix', None)\n",
        "# \n",
        "\n",
        "# df"
      ],
      "metadata": {
        "id": "vBh2Tx6URDyG"
      },
      "execution_count": 49,
      "outputs": []
    },
    {
      "cell_type": "code",
      "source": [
        "column_names = df.columns\n",
        "new_df = pd.DataFrame(columns=column_names)\n",
        "\n",
        "for _file in df.file.unique():\n",
        "    file_df = df[df['file']==_file]\n",
        "\n",
        "    file_df = file_df.groupby(['nSentence']).apply(applySentenceGroupBy)\n",
        "\n",
        "    # print(file_df[['token', 'tag', 'dependency', 'head', 'root_path']].head(50))\n",
        "    new_df = new_df.append(file_df)\n",
        "    # break\n",
        "\n",
        "df = new_df\n",
        "\n",
        "#new_df[(new_df['affix_cue'] == True) & (new_df['negCue']=='B-NEG')]\n",
        "\n",
        "#Encode golden label\n",
        "negCue_dict = {\"negCue\":     {\"O\": 0, \"B-NEG\": 1, \"I-NEG\": 2}}\n",
        "df = df.replace(negCue_dict)\n",
        "\n",
        "# df"
      ],
      "metadata": {
        "id": "4wMZ6URQ6XDi"
      },
      "execution_count": 50,
      "outputs": []
    },
    {
      "cell_type": "code",
      "source": [
        "test_df_1 = build_dataframe(\"/content/SEM-2012-SharedTask-CD-SCO-test-cardboard.txt\")\n",
        "test_df_2 = build_dataframe(\"/content/SEM-2012-SharedTask-CD-SCO-test-circle.txt\")\n",
        "test_df_1 = test_df_1.rename(columns={0: 'file', 1: 'nSentence', 2: 'nToken', 3: 'token', 4: 'negCue'})\n",
        "test_df_2 = test_df_2.rename(columns={0: 'file', 1: 'nSentence', 2: 'nToken', 3: 'token', 4: 'negCue'})\n",
        "\n",
        "test_df_1.insert(0, 'sentence', None)\n",
        "test_df_1.insert(len(test_df_1.columns)-1, 'lemma', None)\n",
        "test_df_1.insert(len(test_df_1.columns)-1, 'next_lemma', None)\n",
        "test_df_1.insert(len(test_df_1.columns)-1, 'prev_lemma', None)\n",
        "test_df_1.insert(len(test_df_1.columns)-1, 'next_token', None)\n",
        "test_df_1.insert(len(test_df_1.columns)-1, 'prev_token', None)\n",
        "test_df_1.insert(len(test_df_1.columns)-1, 'double_prev_lemma', None)\n",
        "test_df_1.insert(len(test_df_1.columns)-1, 'tag', None)\n",
        "test_df_1.insert(len(test_df_1.columns)-1, 'dependency', None)\n",
        "test_df_1.insert(len(test_df_1.columns)-1, 'head', None)\n",
        "test_df_1.insert(len(test_df_1.columns)-1, 'root_path', None)\n",
        "test_df_1.insert(len(test_df_1.columns)-1, 'neg_exp_list', None)\n",
        "test_df_1.insert(len(test_df_1.columns)-1, 'affix_cue', None)\n",
        "test_df_1.insert(len(test_df_1.columns)-1, 'is_lemma_without_affix', None)\n",
        "\n",
        "test_df_2.insert(0, 'sentence', None)\n",
        "test_df_2.insert(len(test_df_2.columns)-1, 'lemma', None)\n",
        "test_df_2.insert(len(test_df_2.columns)-1, 'next_lemma', None)\n",
        "test_df_2.insert(len(test_df_2.columns)-1, 'prev_lemma', None)\n",
        "test_df_2.insert(len(test_df_2.columns)-1, 'next_token', None)\n",
        "test_df_2.insert(len(test_df_2.columns)-1, 'prev_token', None)\n",
        "test_df_2.insert(len(test_df_2.columns)-1, 'double_prev_lemma', None)\n",
        "test_df_2.insert(len(test_df_2.columns)-1, 'tag', None)\n",
        "test_df_2.insert(len(test_df_2.columns)-1, 'dependency', None)\n",
        "test_df_2.insert(len(test_df_2.columns)-1, 'head', None)\n",
        "test_df_2.insert(len(test_df_2.columns)-1, 'root_path', None)\n",
        "test_df_2.insert(len(test_df_2.columns)-1, 'neg_exp_list', None)\n",
        "test_df_2.insert(len(test_df_2.columns)-1, 'affix_cue', None)\n",
        "test_df_2.insert(len(test_df_2.columns)-1, 'is_lemma_without_affix', None)"
      ],
      "metadata": {
        "id": "GTfwAe7g6fPU"
      },
      "execution_count": 51,
      "outputs": []
    },
    {
      "cell_type": "code",
      "source": [
        "test_column_names = test_df_1.columns\n",
        "new_df = pd.DataFrame(columns=test_column_names)\n",
        "\n",
        "for _file in test_df_1.file.unique():\n",
        "    file_df = test_df_1[test_df_1['file']==_file]\n",
        "    file_df = file_df.groupby(['nSentence']).apply(applySentenceGroupBy)\n",
        "    new_df = new_df.append(file_df)\n",
        "test_df_1 = new_df\n",
        "\n",
        "new_df = pd.DataFrame(columns=test_column_names)\n",
        "for _file in test_df_2.file.unique():\n",
        "    file_df = test_df_2[test_df_2['file']==_file]\n",
        "    file_df = file_df.groupby(['nSentence']).apply(applySentenceGroupBy)\n",
        "    new_df = new_df.append(file_df)\n",
        "\n",
        "test_df_2 = new_df\n",
        "\n",
        "#Encode golden label\n",
        "negCue_dict = {\"negCue\":     {\"O\": 0, \"B-NEG\": 1, \"I-NEG\": 2}}\n",
        "test_df_1 = test_df_2.replace(negCue_dict).dropna() ##drop na!! \n",
        "test_df_2 = test_df_2.replace(negCue_dict).dropna() ##drop na!! "
      ],
      "metadata": {
        "id": "q9nso7cb6gnY"
      },
      "execution_count": 52,
      "outputs": []
    },
    {
      "cell_type": "code",
      "source": [
        "dev_df = build_dataframe(\"/content/SEM-2012-SharedTask-CD-SCO-dev-simple.v2.txt\")\n",
        "dev_df = dev_df.rename(columns={0: 'file', 1: 'nSentence', 2: 'nToken', 3: 'token', 4: 'negCue'})\n",
        "\n",
        "dev_df.insert(0, 'sentence', None)\n",
        "dev_df.insert(len(dev_df.columns)-1, 'lemma', None)\n",
        "dev_df.insert(len(dev_df.columns)-1, 'next_lemma', None)\n",
        "dev_df.insert(len(dev_df.columns)-1, 'prev_lemma', None)\n",
        "dev_df.insert(len(dev_df.columns)-1, 'next_token', None)\n",
        "dev_df.insert(len(dev_df.columns)-1, 'prev_token', None)\n",
        "dev_df.insert(len(dev_df.columns)-1, 'double_prev_lemma', None)\n",
        "dev_df.insert(len(dev_df.columns)-1, 'tag', None)\n",
        "dev_df.insert(len(dev_df.columns)-1, 'dependency', None)\n",
        "dev_df.insert(len(dev_df.columns)-1, 'head', None)\n",
        "dev_df.insert(len(dev_df.columns)-1, 'root_path', None)\n",
        "dev_df.insert(len(dev_df.columns)-1, 'neg_exp_list', None)\n",
        "dev_df.insert(len(dev_df.columns)-1, 'affix_cue', None)\n",
        "dev_df.insert(len(dev_df.columns)-1, 'is_lemma_without_affix', None)\n",
        "\n",
        "\n",
        "dev_column_names = dev_df.columns\n",
        "new_df = pd.DataFrame(columns=column_names)\n",
        "\n",
        "for _file in dev_df.file.unique():\n",
        "    file_df = dev_df[dev_df['file']==_file]\n",
        "    file_df = file_df.groupby(['nSentence']).apply(applySentenceGroupBy)\n",
        "    new_df = new_df.append(file_df)\n",
        "\n",
        "dev_df = new_df\n",
        "\n",
        "#Encode golden label\n",
        "negCue_dict = {\"negCue\":     {\"O\": 0, \"B-NEG\": 1, \"I-NEG\": 2}}\n",
        "dev_df = dev_df.replace(negCue_dict).dropna() ##drop na!! "
      ],
      "metadata": {
        "id": "HFqf4Dhk6lTx"
      },
      "execution_count": 53,
      "outputs": []
    },
    {
      "cell_type": "code",
      "source": [
        "aux_df = df.drop(columns=['file',]).dropna()\n",
        "y_dev = dev_df['negCue']\n",
        "y_test1 = test_df_1['negCue']\n",
        "y_test2 = test_df_2['negCue']\n",
        "\n",
        "aux_dev_df = dev_df.drop(columns=['negCue'])\n",
        "aux_test1_df = test_df_1.drop(columns=['negCue'])\n",
        "aux_test2_df = test_df_1.drop(columns=['negCue'])\n",
        "\n",
        "aux_X = aux_df.drop(columns = ['negCue'])\n",
        "aux_y = aux_df['negCue']\n",
        "print(len(aux_y))\n",
        "aux_X_ = aux_X.copy()"
      ],
      "metadata": {
        "colab": {
          "base_uri": "https://localhost:8080/"
        },
        "id": "6VXsy7bZ6pRO",
        "outputId": "fc6d4b1b-72a2-4e94-a7ad-be53f4ea74b2"
      },
      "execution_count": 54,
      "outputs": [
        {
          "output_type": "stream",
          "name": "stdout",
          "text": [
            "63039\n"
          ]
        }
      ]
    },
    {
      "cell_type": "markdown",
      "source": [
        "# **Histograms**"
      ],
      "metadata": {
        "id": "Z0eI-UiHqAGG"
      }
    },
    {
      "cell_type": "code",
      "execution_count": 55,
      "metadata": {
        "id": "YyTInO8UccdP",
        "colab": {
          "base_uri": "https://localhost:8080/",
          "height": 0
        },
        "outputId": "d0d3cc1d-787a-45e4-d9ea-d2af2826db09"
      },
      "outputs": [
        {
          "output_type": "display_data",
          "data": {
            "text/plain": [
              "<Figure size 432x288 with 1 Axes>"
            ],
            "image/png": "[encoded data removed]"
          },
          "metadata": {
            "needs_background": "light"
          }
        },
        {
          "output_type": "stream",
          "name": "stdout",
          "text": [
            "0    12921\n",
            "1      172\n",
            "2        3\n",
            "Name: negCue, dtype: int64\n"
          ]
        }
      ],
      "source": [
        "plt.hist(dev_df['negCue'], bins=3)\n",
        "\n",
        "# Add labels\n",
        "plt.xlabel('negCue')\n",
        "plt.ylabel('Frequency')\n",
        "plt.title('Histogram of negCue')\n",
        "\n",
        "# Show plot\n",
        "plt.show()\n",
        "print(dev_df['negCue'].value_counts())"
      ]
    },
    {
      "cell_type": "code",
      "execution_count": 56,
      "metadata": {
        "id": "9Hv6Pu1QxODS",
        "colab": {
          "base_uri": "https://localhost:8080/",
          "height": 0
        },
        "outputId": "ac1a4911-5548-4521-f46e-69d4d4a16dc1"
      },
      "outputs": [
        {
          "output_type": "display_data",
          "data": {
            "text/plain": [
              "<Figure size 432x288 with 1 Axes>"
            ],
            "image/png": "[encoded data removed]"
          },
          "metadata": {
            "needs_background": "light"
          }
        },
        {
          "output_type": "stream",
          "name": "stdout",
          "text": [
            "0    64448\n",
            "1      987\n",
            "2       16\n",
            "Name: negCue, dtype: int64\n"
          ]
        }
      ],
      "source": [
        "# Plot histogram\n",
        "plt.hist(df['negCue'], bins=3)\n",
        "\n",
        "# Add labels\n",
        "plt.xlabel('negCue')\n",
        "plt.ylabel('Frequency')\n",
        "plt.title('Histogram of negCue')\n",
        "\n",
        "# Show plot\n",
        "plt.show()\n",
        "print(df['negCue'].value_counts())"
      ]
    },
    {
      "cell_type": "code",
      "execution_count": 57,
      "metadata": {
        "id": "mXzk8t3vrbUY",
        "colab": {
          "base_uri": "https://localhost:8080/",
          "height": 0
        },
        "outputId": "a9edc09d-1374-4989-bbdb-ddcd74dfd5b6"
      },
      "outputs": [
        {
          "output_type": "display_data",
          "data": {
            "text/plain": [
              "<Figure size 432x288 with 1 Axes>"
            ],
            "image/png": "[encoded data removed]"
          },
          "metadata": {
            "needs_background": "light"
          }
        },
        {
          "output_type": "stream",
          "name": "stdout",
          "text": [
            "0    64448\n",
            "1      987\n",
            "2       16\n",
            "Name: negCue, dtype: int64\n"
          ]
        }
      ],
      "source": [
        "# Plot histogram\n",
        "plt.hist(test_df_1['negCue'], bins=3)\n",
        "\n",
        "# Add labels\n",
        "plt.xlabel('negCue')\n",
        "plt.ylabel('Frequency')\n",
        "plt.title('Histogram of negCue')\n",
        "\n",
        "# Show plot\n",
        "plt.show()\n",
        "print(df['negCue'].value_counts())"
      ]
    },
    {
      "cell_type": "code",
      "execution_count": 58,
      "metadata": {
        "id": "eag-11m1rhSf",
        "colab": {
          "base_uri": "https://localhost:8080/",
          "height": 0
        },
        "outputId": "80ac6a90-ae25-477a-983a-6ad27308a6ae"
      },
      "outputs": [
        {
          "output_type": "display_data",
          "data": {
            "text/plain": [
              "<Figure size 432x288 with 1 Axes>"
            ],
            "image/png": "[encoded data removed]"
          },
          "metadata": {
            "needs_background": "light"
          }
        },
        {
          "output_type": "stream",
          "name": "stdout",
          "text": [
            "0    64448\n",
            "1      987\n",
            "2       16\n",
            "Name: negCue, dtype: int64\n"
          ]
        }
      ],
      "source": [
        "# Plot histogram\n",
        "plt.hist(test_df_2['negCue'], bins=3)\n",
        "\n",
        "# Add labels\n",
        "plt.xlabel('negCue')\n",
        "plt.ylabel('Frequency')\n",
        "plt.title('Histogram of negCue')\n",
        "\n",
        "# Show plot\n",
        "plt.show()\n",
        "print(df['negCue'].value_counts())"
      ]
    },
    {
      "cell_type": "markdown",
      "source": [
        "# **Ablation Study**"
      ],
      "metadata": {
        "id": "AdvP467363q4"
      }
    },
    {
      "cell_type": "code",
      "source": [
        "full_feature_set =  {'tag','double_prev_lemma','dependency','head','root_path','is_lemma_without_affix'}\n",
        "features = ['token','lemma','next_lemma','prev_lemma', 'double_prev_lemma','tag','dependency','prev_token', 'next_token','head','root_path','neg_exp_list','affix_cue', 'is_lemma_without_affix']\n",
        "basic_set = ['token', 'lemma', 'prev_lemma','next_lemma', 'prev_token', 'next_token', 'neg_exp_list', 'affix_cue']"
      ],
      "metadata": {
        "id": "0IIl4KSjta3h"
      },
      "execution_count": 59,
      "outputs": []
    },
    {
      "cell_type": "code",
      "source": [],
      "metadata": {
        "id": "01iclHW-L-5R"
      },
      "execution_count": 59,
      "outputs": []
    },
    {
      "cell_type": "code",
      "source": [
        "X_train = aux_X_[features].copy()\n",
        "X_test1 = aux_test1_df[features].copy()\n",
        "X_test2 = aux_test2_df[features].copy()\n",
        "X_dev   = aux_dev_df[features].copy()\n",
        "x_abl_tr, x_abl_te, y_abl_tr, y_abl_te =  train_test_split(X_dev, y_dev, random_state=73, test_size=(1/3), stratify=y_dev)\n",
        "print(x_abl_te)"
      ],
      "metadata": {
        "colab": {
          "base_uri": "https://localhost:8080/"
        },
        "id": "kOKf3hWE63Bm",
        "outputId": "62e5ebb0-ab60-42ab-b9c4-6723f29e7513"
      },
      "execution_count": 60,
      "outputs": [
        {
          "output_type": "stream",
          "name": "stdout",
          "text": [
            "          token    lemma next_lemma prev_lemma double_prev_lemma  tag  \\\n",
            "3707       from     from        his       mile                 a   IN   \n",
            "9634      first    first        day         my                 .   JJ   \n",
            "12212      safe     safe          .         go           monster   JJ   \n",
            "2217    evening  evening          I        the                of   NN   \n",
            "2909         at       at      whose          ,          Melville   IN   \n",
            "...         ...      ...        ...        ...               ...  ...   \n",
            "12255  blanched   blanch       with       face              worn  VBN   \n",
            "8267      found     find       dead         be                 ,  VBN   \n",
            "2331        the      the    content         to                as   DT   \n",
            "9360       were       be        all       they                 .  VBD   \n",
            "5743          ,        ,         my       well                 `    ,   \n",
            "\n",
            "      dependency prev_token next_token        head root_path neg_exp_list  \\\n",
            "3707        prep       mile        his       found         1            0   \n",
            "9634        amod         My       days        days         2            0   \n",
            "12212      acomp       goes          .        goes         2            0   \n",
            "2217        pobj        the          I          of         5            0   \n",
            "2909        prep          ,      whose         met         2            0   \n",
            "...          ...        ...        ...         ...       ...          ...   \n",
            "12255       conj       face       with    clenched         1            0   \n",
            "8267       ccomp        was       dead  remembered         1            0   \n",
            "2331         det         to   contents    contents         5            0   \n",
            "9360        ROOT       They        all        were         0            0   \n",
            "5743       punct       Well         my     arrived         1            0   \n",
            "\n",
            "      affix_cue is_lemma_without_affix  \n",
            "3707          0                      2  \n",
            "9634          0                      2  \n",
            "12212         0                      2  \n",
            "2217          0                      2  \n",
            "2909          1                      0  \n",
            "...         ...                    ...  \n",
            "12255         0                      2  \n",
            "8267          0                      2  \n",
            "2331          0                      2  \n",
            "9360          0                      2  \n",
            "5743          0                      2  \n",
            "\n",
            "[4366 rows x 14 columns]\n"
          ]
        }
      ]
    },
    {
      "cell_type": "code",
      "source": [
        "all_combinations = []\n",
        "for i in range(0,7):\n",
        "  combination = list(itertools.combinations(full_feature_set , i))\n",
        "  #print(combination)\n",
        "  combo = list(map(list, combination))\n",
        "  all_combinations += combo\n",
        "#print(all_combinations[17]+basic_set)"
      ],
      "metadata": {
        "id": "_P5iWevITwky"
      },
      "execution_count": 61,
      "outputs": []
    },
    {
      "cell_type": "code",
      "source": [
        "results_of_ablation = ablation(all_combinations, basic_set)\n",
        "print(results_of_ablation)"
      ],
      "metadata": {
        "colab": {
          "base_uri": "https://localhost:8080/"
        },
        "id": "6xAq9r2VSpDU",
        "outputId": "3f5ef35b-7f14-4c58-8f4b-68a0d52bbf04"
      },
      "execution_count": 62,
      "outputs": [
        {
          "output_type": "stream",
          "name": "stdout",
          "text": [
            "                                          Feature_set  A SVM  MA F1 SVM  \\\n",
            "0                                                  []  0.994   0.577944   \n",
            "1                                         [root_path]  0.994   0.577944   \n",
            "2                            [is_lemma_without_affix]  0.994   0.577944   \n",
            "3                                              [head]  0.994   0.577944   \n",
            "4                                               [tag]  0.995   0.586702   \n",
            "..                                                ...    ...        ...   \n",
            "59  [root_path, is_lemma_without_affix, head, doub...  0.994   0.577944   \n",
            "60  [root_path, is_lemma_without_affix, tag, doubl...  0.995   0.597829   \n",
            "61  [root_path, head, tag, double_prev_lemma, depe...  0.994   0.584756   \n",
            "62  [is_lemma_without_affix, head, tag, double_pre...  0.995   0.589832   \n",
            "63  [root_path, is_lemma_without_affix, head, tag,...  0.994   0.584756   \n",
            "\n",
            "                                             pars SVM     A XGB  MA F1 XGB  \\\n",
            "0   {'classifier__C': 1.0, 'classifier__gamma': 0....  0.997022   0.577944   \n",
            "1   {'classifier__C': 1.0, 'classifier__gamma': 0....  0.996793   0.577944   \n",
            "2   {'classifier__C': 1.0, 'classifier__gamma': 0....  0.996793   0.577944   \n",
            "3   {'classifier__C': 1.0, 'classifier__gamma': 0....  0.996564   0.577944   \n",
            "4   {'classifier__C': 1.0, 'classifier__gamma': 0....  0.995648   0.586702   \n",
            "..                                                ...       ...        ...   \n",
            "59  {'classifier__C': 1.0, 'classifier__gamma': 0....  0.996793   0.577944   \n",
            "60  {'classifier__C': 10.0, 'classifier__gamma': 0...  0.995648   0.597829   \n",
            "61  {'classifier__C': 10.0, 'classifier__gamma': 0...  0.996793   0.584756   \n",
            "62  {'classifier__C': 10.0, 'classifier__gamma': 0...  0.997022   0.589832   \n",
            "63  {'classifier__C': 10.0, 'classifier__gamma': 0...  0.996564   0.584756   \n",
            "\n",
            "                                             pars XGB  \n",
            "0   {'classifier__colsample_bytree': 0.6, 'classif...  \n",
            "1   {'classifier__colsample_bytree': 0.6, 'classif...  \n",
            "2   {'classifier__colsample_bytree': 0.6, 'classif...  \n",
            "3   {'classifier__colsample_bytree': 1.0, 'classif...  \n",
            "4   {'classifier__colsample_bytree': 1.0, 'classif...  \n",
            "..                                                ...  \n",
            "59  {'classifier__colsample_bytree': 1.0, 'classif...  \n",
            "60  {'classifier__colsample_bytree': 0.6, 'classif...  \n",
            "61  {'classifier__colsample_bytree': 0.6, 'classif...  \n",
            "62  {'classifier__colsample_bytree': 0.6, 'classif...  \n",
            "63  {'classifier__colsample_bytree': 0.6, 'classif...  \n",
            "\n",
            "[64 rows x 7 columns]\n"
          ]
        }
      ]
    },
    {
      "cell_type": "code",
      "source": [
        "print(results_of_ablation['MA F1 SVM'])\n",
        "print(max(results_of_ablation['MA F1 SVM']))\n",
        "print(results_of_ablation['MA F1 XGB'])\n",
        "print(max(results_of_ablation['MA F1 XGB']))"
      ],
      "metadata": {
        "id": "1uRdzRZpbLSN",
        "colab": {
          "base_uri": "https://localhost:8080/"
        },
        "outputId": "d3e7eae2-914b-4d97-94e8-e84f33e76e6d"
      },
      "execution_count": 63,
      "outputs": [
        {
          "output_type": "stream",
          "name": "stdout",
          "text": [
            "0     0.577944\n",
            "1     0.577944\n",
            "2     0.577944\n",
            "3     0.577944\n",
            "4     0.586702\n",
            "        ...   \n",
            "59    0.577944\n",
            "60    0.597829\n",
            "61    0.584756\n",
            "62    0.589832\n",
            "63    0.584756\n",
            "Name: MA F1 SVM, Length: 64, dtype: float64\n",
            "0.6220617992890348\n",
            "0     0.577944\n",
            "1     0.577944\n",
            "2     0.577944\n",
            "3     0.577944\n",
            "4     0.586702\n",
            "        ...   \n",
            "59    0.577944\n",
            "60    0.597829\n",
            "61    0.584756\n",
            "62    0.589832\n",
            "63    0.584756\n",
            "Name: MA F1 XGB, Length: 64, dtype: float64\n",
            "0.6220617992890348\n"
          ]
        }
      ]
    },
    {
      "cell_type": "code",
      "source": [
        "ind_svm = results_of_ablation['MA F1 SVM'].idxmax()\n",
        "ind_xgb = results_of_ablation['MA F1 XGB'].idxmax()\n",
        "\n",
        "print(results_of_ablation.iloc[ind_svm])\n",
        "print(results_of_ablation.iloc[ind_xgb])"
      ],
      "metadata": {
        "colab": {
          "base_uri": "https://localhost:8080/"
        },
        "id": "q8C_CUjudP1s",
        "outputId": "0874b93b-2fb9-4abb-bb55-bb1a4c31902d"
      },
      "execution_count": 64,
      "outputs": [
        {
          "output_type": "stream",
          "name": "stdout",
          "text": [
            "Feature_set                              [root_path, dependency]\n",
            "A SVM                                                      0.997\n",
            "MA F1 SVM                                               0.622062\n",
            "pars SVM       {'classifier__C': 1.0, 'classifier__gamma': 0....\n",
            "A XGB                                                   0.996564\n",
            "MA F1 XGB                                               0.622062\n",
            "pars XGB       {'classifier__colsample_bytree': 1.0, 'classif...\n",
            "Name: 11, dtype: object\n",
            "Feature_set                              [root_path, dependency]\n",
            "A SVM                                                      0.997\n",
            "MA F1 SVM                                               0.622062\n",
            "pars SVM       {'classifier__C': 1.0, 'classifier__gamma': 0....\n",
            "A XGB                                                   0.996564\n",
            "MA F1 XGB                                               0.622062\n",
            "pars XGB       {'classifier__colsample_bytree': 1.0, 'classif...\n",
            "Name: 11, dtype: object\n"
          ]
        }
      ]
    },
    {
      "cell_type": "markdown",
      "source": [
        "# **Training**"
      ],
      "metadata": {
        "id": "KKDzjyTkdSwC"
      }
    },
    {
      "cell_type": "code",
      "source": [
        "num = StandardScaler()      \n",
        "vectorizer1 = TfidfVectorizer()#.fit(corpus_df.text.to_list())\n",
        "\n",
        "numeric_transformer  = Pipeline(\n",
        "  steps=[(\"scaler\", StandardScaler())])\n",
        "str_transformer = Pipeline(\n",
        "  steps=[\n",
        "        (\"tfidf\", custom_tfidf(vectorizer1))\n",
        "    ]) \n",
        "\n",
        "features_numeric_control = ['root_path',\n",
        "                                'neg_exp_list',\n",
        "                                'affix_cue']\n",
        "feature_str_control =      ['next_token', 'prev_token'\n",
        "                                'token', 'next_lemma'\n",
        "                                'double_prev_lemma'\n",
        "                                'prev_lemma',\n",
        "                                'lemma',\n",
        "                                'dependency',]\n",
        "\n",
        "\n",
        "    \n",
        "feature_str = [feat for feat in features if feat in feature_str_control]\n",
        "features_numeric = [feat for feat in features if feat in features_numeric_control]\n",
        "\n",
        "\n",
        "\n",
        "preprocessor = ColumnTransformer(\n",
        "        transformers=[('tfidf', str_transformer, feature_str),\n",
        "                      ('num',numeric_transformer,features_numeric)  \n",
        "                      ])\n",
        "pipe_svm = Pipeline([\n",
        "                        ('preprocessor', preprocessor),\n",
        "                        ('classifier', thundersvm.SVC())])\n",
        "        \n",
        "        # SVM\n",
        "param_grid_svm = {\n",
        "            'classifier__C':      [1.0, 10.0],\n",
        "            'classifier__kernel': ['linear'],\n",
        "            'classifier__gamma':  [0.5, 1],\n",
        "        }\n",
        "\n",
        "grid_svm     = GridSearchCV(pipe_svm, param_grid_svm, n_jobs=1, cv=2)\n",
        "\n",
        "pipe_xgb = Pipeline([\n",
        "                        ('preprocessor', preprocessor),\n",
        "                        ('classifier', xgb.XGBClassifier(tree_method='gpu_hist'))])\n",
        "        \n",
        "        # XGB\n",
        "param_grid_xgb = {\n",
        "            'classifier__max_depth':        [5],\n",
        "            'classifier__colsample_bytree': [0.6, 1.0],\n",
        "            'classifier__learning_rate':    [0.1, 0.3],\n",
        "        }\n",
        "\n",
        "grid_xgb     = GridSearchCV(pipe_xgb, param_grid_xgb, n_jobs=1, cv=2)\n",
        "\n"
      ],
      "metadata": {
        "id": "mItz9VjvdSAr"
      },
      "execution_count": 97,
      "outputs": []
    },
    {
      "cell_type": "code",
      "source": [
        "#Get results on first test set\n",
        "#first test set \n",
        "grid_svm.fit(X_train[feature_set], aux_y)\n",
        "y_pred_svm = grid_svm.predict(X_test1)\n",
        "rep_svm = classification_report(y_test1, y_pred_svm, output_dict = True)\n",
        "print(rep_svm)\n",
        "\n",
        "df_svm = X_test1[features].copy()\n",
        "df_svm['predictions'] = y_pred_svm\n",
        "df_svm['Golden'] = y_test1\n",
        "df_svm_errors = df_svm[df_svm['predictions'] != df_svm['Golden']]\n",
        "df_svm_errors.to_csv('/content/svm_errors_test1.csv')\n",
        "\n",
        "grid_xgb.fit(X_train[feature_set], aux_y)\n",
        "y_pred_xgb = grid_xgb.predict(X_test1[feature_set])\n",
        "rep_xgb = classification_report(y_test1, y_pred_xgb, output_dict = True)\n",
        "print(rep_xgb)\n",
        "\n",
        "df_xgb = X_test1[features].copy()\n",
        "df_xgb['predictions'] = y_pred_xgb\n",
        "df_xgb['Golden'] = y_test1\n",
        "df_xgb_errors = df_xgb[df_svm['predictions'] != df_xgb['Golden']]\n",
        "df_xgb_errors.to_csv('/content/xgb_errors_test1.csv')"
      ],
      "metadata": {
        "colab": {
          "base_uri": "https://localhost:8080/"
        },
        "id": "y7kq8CqysBKu",
        "outputId": "779bd706-a3f1-4bc4-8877-17bc393285da"
      },
      "execution_count": 107,
      "outputs": [
        {
          "output_type": "stream",
          "name": "stdout",
          "text": [
            "{'0': {'precision': 0.9985974754558204, 'recall': 0.9981308411214953, 'f1-score': 0.9983641037625614, 'support': 8560}, '1': {'precision': 0.8785714285714286, 'recall': 0.9318181818181818, 'f1-score': 0.9044117647058825, 'support': 132}, '2': {'precision': 0.0, 'recall': 0.0, 'f1-score': 0.0, 'support': 4}, 'accuracy': 0.9966651333946642, 'macro avg': {'precision': 0.625722968009083, 'recall': 0.6433163409798923, 'f1-score': 0.6342586228228146, 'support': 8696}, 'weighted avg': {'precision': 0.996316216475765, 'recall': 0.9966651333946642, 'f1-score': 0.9964787351826934, 'support': 8696}}\n",
            "{'0': {'precision': 0.9978989144391269, 'recall': 0.998714953271028, 'f1-score': 0.9983067670928943, 'support': 8560}, '1': {'precision': 0.9069767441860465, 'recall': 0.8863636363636364, 'f1-score': 0.896551724137931, 'support': 132}, '2': {'precision': 0.0, 'recall': 0.0, 'f1-score': 0.0, 'support': 4}, 'accuracy': 0.9965501379944802, 'macro avg': {'precision': 0.6349585528750578, 'recall': 0.6283595298782214, 'f1-score': 0.6316194970769419, 'support': 8696}, 'weighted avg': {'precision': 0.9960597559603822, 'recall': 0.9965501379944802, 'f1-score': 0.9963029845792758, 'support': 8696}}\n"
          ]
        }
      ]
    },
    {
      "cell_type": "code",
      "source": [
        "from sklearn import metrics"
      ],
      "metadata": {
        "id": "7sBZS2OrvYTA"
      },
      "execution_count": 108,
      "outputs": []
    },
    {
      "cell_type": "code",
      "source": [
        "confusion_matrix = metrics.confusion_matrix(y_test1, y_pred_svm)\n",
        "cm_display = metrics.ConfusionMatrixDisplay(confusion_matrix = confusion_matrix, display_labels = ['O', 'B-NEG', 'I-NEG'])\n",
        "cm_display.plot()\n",
        "plt.show()"
      ],
      "metadata": {
        "colab": {
          "base_uri": "https://localhost:8080/",
          "height": 279
        },
        "id": "UKYaIM6bvSSo",
        "outputId": "b79fe8a2-2a42-400b-dd83-dc7816f3e994"
      },
      "execution_count": 109,
      "outputs": [
        {
          "output_type": "display_data",
          "data": {
            "text/plain": [
              "<Figure size 432x288 with 2 Axes>"
            ],
            "image/png": "[encoded data removed]"
          },
          "metadata": {
            "needs_background": "light"
          }
        }
      ]
    },
    {
      "cell_type": "code",
      "source": [
        "confusion_matrix = metrics.confusion_matrix(y_test1, y_pred_xgb)\n",
        "cm_display = metrics.ConfusionMatrixDisplay(confusion_matrix = confusion_matrix, display_labels = ['O', 'B-NEG', 'I-NEG'])\n",
        "cm_display.plot()\n",
        "plt.show()"
      ],
      "metadata": {
        "colab": {
          "base_uri": "https://localhost:8080/",
          "height": 279
        },
        "id": "rJHXXMOjvSh0",
        "outputId": "213ccff3-7829-40ef-cc72-77390577add4"
      },
      "execution_count": 110,
      "outputs": [
        {
          "output_type": "display_data",
          "data": {
            "text/plain": [
              "<Figure size 432x288 with 2 Axes>"
            ],
            "image/png": "[encoded data removed]"
          },
          "metadata": {
            "needs_background": "light"
          }
        }
      ]
    },
    {
      "cell_type": "markdown",
      "source": [
        "# **Baseline Model (majority)**"
      ],
      "metadata": {
        "id": "hrjsG0FB0peD"
      }
    },
    {
      "cell_type": "code",
      "source": [
        "majority_pred_test1 = [0]*len(y_test1)\n",
        "majority_pred_test2 = [0]*len(y_test2)"
      ],
      "metadata": {
        "id": "pS2C1BKp0vSJ"
      },
      "execution_count": null,
      "outputs": []
    },
    {
      "cell_type": "code",
      "source": [
        "print(classification_report(y_test1, majority_pred_test1, output_dict = True))"
      ],
      "metadata": {
        "colab": {
          "base_uri": "https://localhost:8080/"
        },
        "id": "Nkgzhe9y1L-0",
        "outputId": "23df0d87-4252-42b6-8e9d-31557e017306"
      },
      "execution_count": null,
      "outputs": [
        {
          "output_type": "stream",
          "name": "stdout",
          "text": [
            "{'0': {'precision': 0.984360625574977, 'recall': 1.0, 'f1-score': 0.9921186833565137, 'support': 8560}, '1': {'precision': 0.0, 'recall': 0.0, 'f1-score': 0.0, 'support': 132}, '2': {'precision': 0.0, 'recall': 0.0, 'f1-score': 0.0, 'support': 4}, 'accuracy': 0.984360625574977, 'macro avg': {'precision': 0.32812020852499235, 'recall': 0.3333333333333333, 'f1-score': 0.33070622778550457, 'support': 8696}, 'weighted avg': {'precision': 0.9689658411823601, 'recall': 0.984360625574977, 'f1-score': 0.9766025677934403, 'support': 8696}}\n"
          ]
        }
      ]
    }
  ]
}